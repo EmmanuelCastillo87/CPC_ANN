{
 "cells": [
  {
   "cell_type": "code",
   "execution_count": null,
   "metadata": {},
   "outputs": [
    {
     "name": "stderr",
     "output_type": "stream",
     "text": [
      "c:\\Users\\Josè Castillo\\AppData\\Local\\Programs\\Python\\Python310\\lib\\site-packages\\keras\\src\\layers\\core\\dense.py:87: UserWarning: Do not pass an `input_shape`/`input_dim` argument to a layer. When using Sequential models, prefer using an `Input(shape)` object as the first layer in the model instead.\n",
      "  super().__init__(activity_regularizer=activity_regularizer, **kwargs)\n"
     ]
    },
    {
     "data": {
      "text/html": [
       "<div>\n",
       "<style scoped>\n",
       "    .dataframe tbody tr th:only-of-type {\n",
       "        vertical-align: middle;\n",
       "    }\n",
       "\n",
       "    .dataframe tbody tr th {\n",
       "        vertical-align: top;\n",
       "    }\n",
       "\n",
       "    .dataframe thead th {\n",
       "        text-align: right;\n",
       "    }\n",
       "</style>\n",
       "<table border=\"1\" class=\"dataframe\">\n",
       "  <thead>\n",
       "    <tr style=\"text-align: right;\">\n",
       "      <th></th>\n",
       "      <th>loss</th>\n",
       "      <th>mae</th>\n",
       "      <th>mse</th>\n",
       "      <th>val_loss</th>\n",
       "      <th>val_mae</th>\n",
       "      <th>val_mse</th>\n",
       "      <th>epoch</th>\n",
       "    </tr>\n",
       "  </thead>\n",
       "  <tbody>\n",
       "    <tr>\n",
       "      <th>273</th>\n",
       "      <td>145.473969</td>\n",
       "      <td>8.513113</td>\n",
       "      <td>145.473969</td>\n",
       "      <td>92.848770</td>\n",
       "      <td>7.973706</td>\n",
       "      <td>92.848770</td>\n",
       "      <td>273</td>\n",
       "    </tr>\n",
       "    <tr>\n",
       "      <th>274</th>\n",
       "      <td>144.427582</td>\n",
       "      <td>8.416135</td>\n",
       "      <td>144.427582</td>\n",
       "      <td>92.230545</td>\n",
       "      <td>7.958470</td>\n",
       "      <td>92.230545</td>\n",
       "      <td>274</td>\n",
       "    </tr>\n",
       "    <tr>\n",
       "      <th>275</th>\n",
       "      <td>144.880829</td>\n",
       "      <td>8.422170</td>\n",
       "      <td>144.880829</td>\n",
       "      <td>88.088448</td>\n",
       "      <td>7.832965</td>\n",
       "      <td>88.088448</td>\n",
       "      <td>275</td>\n",
       "    </tr>\n",
       "    <tr>\n",
       "      <th>276</th>\n",
       "      <td>144.558823</td>\n",
       "      <td>8.396431</td>\n",
       "      <td>144.558823</td>\n",
       "      <td>94.351967</td>\n",
       "      <td>8.021123</td>\n",
       "      <td>94.351967</td>\n",
       "      <td>276</td>\n",
       "    </tr>\n",
       "    <tr>\n",
       "      <th>277</th>\n",
       "      <td>144.461578</td>\n",
       "      <td>8.443206</td>\n",
       "      <td>144.461578</td>\n",
       "      <td>98.389648</td>\n",
       "      <td>8.166332</td>\n",
       "      <td>98.389648</td>\n",
       "      <td>277</td>\n",
       "    </tr>\n",
       "  </tbody>\n",
       "</table>\n",
       "</div>"
      ],
      "text/plain": [
       "           loss       mae         mse   val_loss   val_mae    val_mse  epoch\n",
       "273  145.473969  8.513113  145.473969  92.848770  7.973706  92.848770    273\n",
       "274  144.427582  8.416135  144.427582  92.230545  7.958470  92.230545    274\n",
       "275  144.880829  8.422170  144.880829  88.088448  7.832965  88.088448    275\n",
       "276  144.558823  8.396431  144.558823  94.351967  8.021123  94.351967    276\n",
       "277  144.461578  8.443206  144.461578  98.389648  8.166332  98.389648    277"
      ]
     },
     "execution_count": 24,
     "metadata": {},
     "output_type": "execute_result"
    }
   ],
   "source": [
    "import numpy as np\n",
    "import pandas as pd\n",
    "import tensorflow as tf\n",
    "from tensorflow import keras\n",
    "from tensorflow.keras import layers\n",
    "import matplotlib.pyplot as plt\n",
    "\n",
    "MODELS= ['TL_M', 'T_20', 'T_21', 'T_23']\n",
    "ds= {}\n",
    "\n",
    "#Load data\n",
    "raw_dataset= pd.read_csv('data.csv', na_values='?')\n",
    "raw_dataset.pop('A')\n",
    "\n",
    "#Preprocess data\n",
    "for m in MODELS: \n",
    "    ds[m]= raw_dataset.copy()\n",
    "    ds[m]= ds[m].drop(ds[m][ds[m]['model'] != m].index)\n",
    "    ds[m].pop('model')\n",
    "    ds[m]['Ti']= ds[m]['T'].shift(1)\n",
    "    ds[m]= ds[m].dropna()\n",
    "\n",
    "ds_t= pd.concat(ds)\n",
    "\n",
    "#Split tran and test sets\n",
    "train= ds_t.sample(frac=0.8, random_state=0)\n",
    "test= ds_t.drop(train.index)\n",
    "\n",
    "#Get data stats\n",
    "train_stats = train.describe()\n",
    "train_stats.pop('T')\n",
    "train_stats = train_stats.transpose()\n",
    "\n",
    "#Pop the output from the dataset\n",
    "train_labels = train.pop('T')\n",
    "test_labels = test.pop('T')\n",
    "\n",
    "#Normalize data\n",
    "def norm(x):\n",
    "  return (x - train_stats['mean']) / train_stats['std']\n",
    "normed_train_data = norm(train)\n",
    "normed_test_data = norm(test)\n",
    "\n",
    "#Build model\n",
    "def build_model():\n",
    "  model = keras.Sequential([\n",
    "    layers.Dense(64, activation='relu', input_shape=[len(train.keys())]),\n",
    "    layers.Dense(64, activation='relu'),\n",
    "    layers.Dense(1)\n",
    "  ])\n",
    "\n",
    "  optimizer = tf.keras.optimizers.RMSprop(0.001)\n",
    "  model.compile(loss='mse', optimizer=optimizer, metrics=['mae', 'mse'])\n",
    "  \n",
    "  return model\n",
    "\n",
    "model = build_model()\n",
    "early_stop = keras.callbacks.EarlyStopping(monitor='val_loss', patience=10)\n",
    "\n",
    "#Run the model\n",
    "EPOCHS = 1000\n",
    "history = model.fit(\n",
    "  normed_train_data, train_labels,\n",
    "  epochs=EPOCHS, validation_split = 0.2, verbose=0,\n",
    "  callbacks=[early_stop])\n",
    "\n",
    "hist = pd.DataFrame(history.history)\n",
    "hist['epoch'] = history.epoch\n",
    "hist.tail()\n"
   ]
  },
  {
   "cell_type": "code",
   "execution_count": 25,
   "metadata": {},
   "outputs": [
    {
     "name": "stdout",
     "output_type": "stream",
     "text": [
      "1/1 - 0s - 58ms/step - loss: 50.7535 - mae: 5.6256 - mse: 50.7535\n",
      "Testing set Mean Abs Error: 5.63 °C\n"
     ]
    }
   ],
   "source": [
    "#Evaluate the model\n",
    "loss, mae, mse = model.evaluate(normed_test_data, test_labels, verbose=2)\n",
    "\n",
    "print(\"Testing set Mean Abs Error: {:.2f} °C\".format(mae))\n"
   ]
  },
  {
   "cell_type": "code",
   "execution_count": 27,
   "metadata": {},
   "outputs": [
    {
     "name": "stdout",
     "output_type": "stream",
     "text": [
      "\u001b[1m1/1\u001b[0m \u001b[32m━━━━━━━━━━━━━━━━━━━━\u001b[0m\u001b[37m\u001b[0m \u001b[1m0s\u001b[0m 60ms/step\n"
     ]
    },
    {
     "data": {
      "image/png": "[encoded data removed]",
      "text/plain": [
       "<Figure size 432x288 with 1 Axes>"
      ]
     },
     "metadata": {
      "needs_background": "light"
     },
     "output_type": "display_data"
    }
   ],
   "source": [
    "#Test the model\n",
    "test_predictions = model.predict(normed_test_data).flatten()\n",
    "\n",
    "plt.scatter(test_labels, test_predictions)\n",
    "plt.xlabel('True Values T')\n",
    "plt.ylabel('Predictions T')\n",
    "plt.axis('equal')\n",
    "plt.axis('square')\n",
    "_ = plt.plot([-220, 220], [-220, 220])"
   ]
  },
  {
   "cell_type": "code",
   "execution_count": 28,
   "metadata": {},
   "outputs": [
    {
     "name": "stdout",
     "output_type": "stream",
     "text": [
      "min    87\n",
      "T      87\n",
      "Ti     87\n",
      "dtype: int64\n"
     ]
    }
   ],
   "source": [
    "print(ds_t.count())"
   ]
  }
 ],
 "metadata": {
  "kernelspec": {
   "display_name": "Python 3",
   "language": "python",
   "name": "python3"
  },
  "language_info": {
   "codemirror_mode": {
    "name": "ipython",
    "version": 3
   },
   "file_extension": ".py",
   "mimetype": "text/x-python",
   "name": "python",
   "nbconvert_exporter": "python",
   "pygments_lexer": "ipython3",
   "version": "3.10.5"
  }
 },
 "nbformat": 4,
 "nbformat_minor": 2
}
